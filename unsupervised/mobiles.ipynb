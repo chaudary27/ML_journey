{
 "cells": [
  {
   "cell_type": "code",
   "execution_count": 1,
   "id": "944c4ea1",
   "metadata": {},
   "outputs": [],
   "source": [
    "import pandas as pd\n",
    "import numpy as np\n",
    "import seaborn as sns\n",
    "from sklearn.cluster import KMeans"
   ]
  },
  {
   "cell_type": "code",
   "execution_count": 2,
   "id": "a56c07f3",
   "metadata": {},
   "outputs": [],
   "source": [
    "df=pd.DataFrame([\n",
    "    {\"model\": \"PhoneA\", \"battery\": 5000, \"price\": 150},\n",
    "    {\"model\": \"PhoneB\", \"battery\": 4500, \"price\": 200},\n",
    "    {\"model\": \"PhoneC\", \"battery\": 3000, \"price\": 800},\n",
    "    {\"model\": \"PhoneD\", \"battery\": 3200, \"price\": 950},\n",
    "    {\"model\": \"PhoneE\", \"battery\": 4000, \"price\": 400},\n",
    "    {\"model\": \"PhoneF\", \"battery\": 6000, \"price\": 180},\n",
    "    {\"model\": \"PhoneG\", \"battery\": 3300, \"price\": 750},\n",
    "    {\"model\": \"PhoneH\", \"battery\": 4800, \"price\": 250},\n",
    "    {\"model\": \"PhoneI\", \"battery\": 2800, \"price\": 1000}\n",
    "\n",
    "])"
   ]
  },
  {
   "cell_type": "code",
   "execution_count": 3,
   "id": "1ccbe673",
   "metadata": {},
   "outputs": [],
   "source": [
    "df.drop('model',axis=1,inplace=True)"
   ]
  },
  {
   "cell_type": "code",
   "execution_count": 4,
   "id": "64319d04",
   "metadata": {},
   "outputs": [
    {
     "data": {
      "application/vnd.microsoft.datawrangler.viewer.v0+json": {
       "columns": [
        {
         "name": "index",
         "rawType": "int64",
         "type": "integer"
        },
        {
         "name": "battery",
         "rawType": "int64",
         "type": "integer"
        },
        {
         "name": "price",
         "rawType": "int64",
         "type": "integer"
        }
       ],
       "ref": "90681c68-5783-4b28-8b1a-ba2282466db8",
       "rows": [
        [
         "0",
         "5000",
         "150"
        ],
        [
         "1",
         "4500",
         "200"
        ],
        [
         "2",
         "3000",
         "800"
        ],
        [
         "3",
         "3200",
         "950"
        ],
        [
         "4",
         "4000",
         "400"
        ],
        [
         "5",
         "6000",
         "180"
        ],
        [
         "6",
         "3300",
         "750"
        ],
        [
         "7",
         "4800",
         "250"
        ],
        [
         "8",
         "2800",
         "1000"
        ]
       ],
       "shape": {
        "columns": 2,
        "rows": 9
       }
      },
      "text/html": [
       "<div>\n",
       "<style scoped>\n",
       "    .dataframe tbody tr th:only-of-type {\n",
       "        vertical-align: middle;\n",
       "    }\n",
       "\n",
       "    .dataframe tbody tr th {\n",
       "        vertical-align: top;\n",
       "    }\n",
       "\n",
       "    .dataframe thead th {\n",
       "        text-align: right;\n",
       "    }\n",
       "</style>\n",
       "<table border=\"1\" class=\"dataframe\">\n",
       "  <thead>\n",
       "    <tr style=\"text-align: right;\">\n",
       "      <th></th>\n",
       "      <th>battery</th>\n",
       "      <th>price</th>\n",
       "    </tr>\n",
       "  </thead>\n",
       "  <tbody>\n",
       "    <tr>\n",
       "      <th>0</th>\n",
       "      <td>5000</td>\n",
       "      <td>150</td>\n",
       "    </tr>\n",
       "    <tr>\n",
       "      <th>1</th>\n",
       "      <td>4500</td>\n",
       "      <td>200</td>\n",
       "    </tr>\n",
       "    <tr>\n",
       "      <th>2</th>\n",
       "      <td>3000</td>\n",
       "      <td>800</td>\n",
       "    </tr>\n",
       "    <tr>\n",
       "      <th>3</th>\n",
       "      <td>3200</td>\n",
       "      <td>950</td>\n",
       "    </tr>\n",
       "    <tr>\n",
       "      <th>4</th>\n",
       "      <td>4000</td>\n",
       "      <td>400</td>\n",
       "    </tr>\n",
       "    <tr>\n",
       "      <th>5</th>\n",
       "      <td>6000</td>\n",
       "      <td>180</td>\n",
       "    </tr>\n",
       "    <tr>\n",
       "      <th>6</th>\n",
       "      <td>3300</td>\n",
       "      <td>750</td>\n",
       "    </tr>\n",
       "    <tr>\n",
       "      <th>7</th>\n",
       "      <td>4800</td>\n",
       "      <td>250</td>\n",
       "    </tr>\n",
       "    <tr>\n",
       "      <th>8</th>\n",
       "      <td>2800</td>\n",
       "      <td>1000</td>\n",
       "    </tr>\n",
       "  </tbody>\n",
       "</table>\n",
       "</div>"
      ],
      "text/plain": [
       "   battery  price\n",
       "0     5000    150\n",
       "1     4500    200\n",
       "2     3000    800\n",
       "3     3200    950\n",
       "4     4000    400\n",
       "5     6000    180\n",
       "6     3300    750\n",
       "7     4800    250\n",
       "8     2800   1000"
      ]
     },
     "execution_count": 4,
     "metadata": {},
     "output_type": "execute_result"
    }
   ],
   "source": [
    "df"
   ]
  },
  {
   "cell_type": "code",
   "execution_count": 5,
   "id": "96cacd74",
   "metadata": {},
   "outputs": [
    {
     "data": {
      "application/vnd.microsoft.datawrangler.viewer.v0+json": {
       "columns": [
        {
         "name": "index",
         "rawType": "int64",
         "type": "integer"
        },
        {
         "name": "battery",
         "rawType": "int64",
         "type": "integer"
        },
        {
         "name": "price",
         "rawType": "int64",
         "type": "integer"
        },
        {
         "name": "cluster",
         "rawType": "int32",
         "type": "integer"
        }
       ],
       "ref": "f459de81-0c51-4383-838c-d185afde6f90",
       "rows": [
        [
         "0",
         "5000",
         "150",
         "1"
        ],
        [
         "1",
         "4500",
         "200",
         "2"
        ],
        [
         "2",
         "3000",
         "800",
         "0"
        ],
        [
         "3",
         "3200",
         "950",
         "0"
        ],
        [
         "4",
         "4000",
         "400",
         "2"
        ],
        [
         "5",
         "6000",
         "180",
         "1"
        ],
        [
         "6",
         "3300",
         "750",
         "0"
        ],
        [
         "7",
         "4800",
         "250",
         "1"
        ],
        [
         "8",
         "2800",
         "1000",
         "0"
        ]
       ],
       "shape": {
        "columns": 3,
        "rows": 9
       }
      },
      "text/html": [
       "<div>\n",
       "<style scoped>\n",
       "    .dataframe tbody tr th:only-of-type {\n",
       "        vertical-align: middle;\n",
       "    }\n",
       "\n",
       "    .dataframe tbody tr th {\n",
       "        vertical-align: top;\n",
       "    }\n",
       "\n",
       "    .dataframe thead th {\n",
       "        text-align: right;\n",
       "    }\n",
       "</style>\n",
       "<table border=\"1\" class=\"dataframe\">\n",
       "  <thead>\n",
       "    <tr style=\"text-align: right;\">\n",
       "      <th></th>\n",
       "      <th>battery</th>\n",
       "      <th>price</th>\n",
       "      <th>cluster</th>\n",
       "    </tr>\n",
       "  </thead>\n",
       "  <tbody>\n",
       "    <tr>\n",
       "      <th>0</th>\n",
       "      <td>5000</td>\n",
       "      <td>150</td>\n",
       "      <td>1</td>\n",
       "    </tr>\n",
       "    <tr>\n",
       "      <th>1</th>\n",
       "      <td>4500</td>\n",
       "      <td>200</td>\n",
       "      <td>2</td>\n",
       "    </tr>\n",
       "    <tr>\n",
       "      <th>2</th>\n",
       "      <td>3000</td>\n",
       "      <td>800</td>\n",
       "      <td>0</td>\n",
       "    </tr>\n",
       "    <tr>\n",
       "      <th>3</th>\n",
       "      <td>3200</td>\n",
       "      <td>950</td>\n",
       "      <td>0</td>\n",
       "    </tr>\n",
       "    <tr>\n",
       "      <th>4</th>\n",
       "      <td>4000</td>\n",
       "      <td>400</td>\n",
       "      <td>2</td>\n",
       "    </tr>\n",
       "    <tr>\n",
       "      <th>5</th>\n",
       "      <td>6000</td>\n",
       "      <td>180</td>\n",
       "      <td>1</td>\n",
       "    </tr>\n",
       "    <tr>\n",
       "      <th>6</th>\n",
       "      <td>3300</td>\n",
       "      <td>750</td>\n",
       "      <td>0</td>\n",
       "    </tr>\n",
       "    <tr>\n",
       "      <th>7</th>\n",
       "      <td>4800</td>\n",
       "      <td>250</td>\n",
       "      <td>1</td>\n",
       "    </tr>\n",
       "    <tr>\n",
       "      <th>8</th>\n",
       "      <td>2800</td>\n",
       "      <td>1000</td>\n",
       "      <td>0</td>\n",
       "    </tr>\n",
       "  </tbody>\n",
       "</table>\n",
       "</div>"
      ],
      "text/plain": [
       "   battery  price  cluster\n",
       "0     5000    150        1\n",
       "1     4500    200        2\n",
       "2     3000    800        0\n",
       "3     3200    950        0\n",
       "4     4000    400        2\n",
       "5     6000    180        1\n",
       "6     3300    750        0\n",
       "7     4800    250        1\n",
       "8     2800   1000        0"
      ]
     },
     "execution_count": 5,
     "metadata": {},
     "output_type": "execute_result"
    }
   ],
   "source": [
    "kmeans=KMeans(n_clusters=3,random_state=42)\n",
    "df['cluster']=kmeans.fit_predict(df)\n",
    "df"
   ]
  },
  {
   "cell_type": "code",
   "execution_count": 11,
   "id": "7cf03da3",
   "metadata": {},
   "outputs": [
    {
     "data": {
      "application/vnd.microsoft.datawrangler.viewer.v0+json": {
       "columns": [
        {
         "name": "index",
         "rawType": "int64",
         "type": "integer"
        },
        {
         "name": "battery",
         "rawType": "int64",
         "type": "integer"
        },
        {
         "name": "price",
         "rawType": "int64",
         "type": "integer"
        },
        {
         "name": "cluster",
         "rawType": "int32",
         "type": "integer"
        },
        {
         "name": "quality",
         "rawType": "object",
         "type": "string"
        }
       ],
       "ref": "1077d6d3-39a1-4c2d-a756-f8d60f9bce3a",
       "rows": [
        [
         "0",
         "5000",
         "150",
         "1",
         "good"
        ],
        [
         "1",
         "4500",
         "200",
         "2",
         "better"
        ],
        [
         "2",
         "3000",
         "800",
         "0",
         "normal"
        ],
        [
         "3",
         "3200",
         "950",
         "0",
         "normal"
        ],
        [
         "4",
         "4000",
         "400",
         "2",
         "better"
        ],
        [
         "5",
         "6000",
         "180",
         "1",
         "good"
        ],
        [
         "6",
         "3300",
         "750",
         "0",
         "normal"
        ],
        [
         "7",
         "4800",
         "250",
         "1",
         "good"
        ],
        [
         "8",
         "2800",
         "1000",
         "0",
         "normal"
        ],
        [
         "9",
         "5500",
         "2000",
         "2",
         "better"
        ],
        [
         "10",
         "7000",
         "5000",
         "0",
         "normal"
        ],
        [
         "11",
         "1200",
         "400",
         "1",
         "good"
        ]
       ],
       "shape": {
        "columns": 4,
        "rows": 12
       }
      },
      "text/html": [
       "<div>\n",
       "<style scoped>\n",
       "    .dataframe tbody tr th:only-of-type {\n",
       "        vertical-align: middle;\n",
       "    }\n",
       "\n",
       "    .dataframe tbody tr th {\n",
       "        vertical-align: top;\n",
       "    }\n",
       "\n",
       "    .dataframe thead th {\n",
       "        text-align: right;\n",
       "    }\n",
       "</style>\n",
       "<table border=\"1\" class=\"dataframe\">\n",
       "  <thead>\n",
       "    <tr style=\"text-align: right;\">\n",
       "      <th></th>\n",
       "      <th>battery</th>\n",
       "      <th>price</th>\n",
       "      <th>cluster</th>\n",
       "      <th>quality</th>\n",
       "    </tr>\n",
       "  </thead>\n",
       "  <tbody>\n",
       "    <tr>\n",
       "      <th>0</th>\n",
       "      <td>5000</td>\n",
       "      <td>150</td>\n",
       "      <td>1</td>\n",
       "      <td>good</td>\n",
       "    </tr>\n",
       "    <tr>\n",
       "      <th>1</th>\n",
       "      <td>4500</td>\n",
       "      <td>200</td>\n",
       "      <td>2</td>\n",
       "      <td>better</td>\n",
       "    </tr>\n",
       "    <tr>\n",
       "      <th>2</th>\n",
       "      <td>3000</td>\n",
       "      <td>800</td>\n",
       "      <td>0</td>\n",
       "      <td>normal</td>\n",
       "    </tr>\n",
       "    <tr>\n",
       "      <th>3</th>\n",
       "      <td>3200</td>\n",
       "      <td>950</td>\n",
       "      <td>0</td>\n",
       "      <td>normal</td>\n",
       "    </tr>\n",
       "    <tr>\n",
       "      <th>4</th>\n",
       "      <td>4000</td>\n",
       "      <td>400</td>\n",
       "      <td>2</td>\n",
       "      <td>better</td>\n",
       "    </tr>\n",
       "    <tr>\n",
       "      <th>5</th>\n",
       "      <td>6000</td>\n",
       "      <td>180</td>\n",
       "      <td>1</td>\n",
       "      <td>good</td>\n",
       "    </tr>\n",
       "    <tr>\n",
       "      <th>6</th>\n",
       "      <td>3300</td>\n",
       "      <td>750</td>\n",
       "      <td>0</td>\n",
       "      <td>normal</td>\n",
       "    </tr>\n",
       "    <tr>\n",
       "      <th>7</th>\n",
       "      <td>4800</td>\n",
       "      <td>250</td>\n",
       "      <td>1</td>\n",
       "      <td>good</td>\n",
       "    </tr>\n",
       "    <tr>\n",
       "      <th>8</th>\n",
       "      <td>2800</td>\n",
       "      <td>1000</td>\n",
       "      <td>0</td>\n",
       "      <td>normal</td>\n",
       "    </tr>\n",
       "    <tr>\n",
       "      <th>9</th>\n",
       "      <td>5500</td>\n",
       "      <td>2000</td>\n",
       "      <td>2</td>\n",
       "      <td>better</td>\n",
       "    </tr>\n",
       "    <tr>\n",
       "      <th>10</th>\n",
       "      <td>7000</td>\n",
       "      <td>5000</td>\n",
       "      <td>0</td>\n",
       "      <td>normal</td>\n",
       "    </tr>\n",
       "    <tr>\n",
       "      <th>11</th>\n",
       "      <td>1200</td>\n",
       "      <td>400</td>\n",
       "      <td>1</td>\n",
       "      <td>good</td>\n",
       "    </tr>\n",
       "  </tbody>\n",
       "</table>\n",
       "</div>"
      ],
      "text/plain": [
       "    battery  price  cluster quality\n",
       "0      5000    150        1    good\n",
       "1      4500    200        2  better\n",
       "2      3000    800        0  normal\n",
       "3      3200    950        0  normal\n",
       "4      4000    400        2  better\n",
       "5      6000    180        1    good\n",
       "6      3300    750        0  normal\n",
       "7      4800    250        1    good\n",
       "8      2800   1000        0  normal\n",
       "9      5500   2000        2  better\n",
       "10     7000   5000        0  normal\n",
       "11     1200    400        1    good"
      ]
     },
     "execution_count": 11,
     "metadata": {},
     "output_type": "execute_result"
    }
   ],
   "source": [
    "df['quality']=df['cluster'].map({0:\"normal\",1:'good',2:'better'})\n",
    "df"
   ]
  },
  {
   "cell_type": "code",
   "execution_count": 8,
   "id": "a21a8434",
   "metadata": {},
   "outputs": [
    {
     "data": {
      "application/vnd.microsoft.datawrangler.viewer.v0+json": {
       "columns": [
        {
         "name": "index",
         "rawType": "int64",
         "type": "integer"
        },
        {
         "name": "battery",
         "rawType": "int64",
         "type": "integer"
        },
        {
         "name": "price",
         "rawType": "int64",
         "type": "integer"
        },
        {
         "name": "cluster",
         "rawType": "int32",
         "type": "integer"
        }
       ],
       "ref": "50c1ffce-c711-4b3e-8ff0-26a1f3b6ed43",
       "rows": [
        [
         "0",
         "5500",
         "2000",
         "2"
        ],
        [
         "1",
         "7000",
         "5000",
         "0"
        ],
        [
         "2",
         "1200",
         "400",
         "1"
        ]
       ],
       "shape": {
        "columns": 3,
        "rows": 3
       }
      },
      "text/html": [
       "<div>\n",
       "<style scoped>\n",
       "    .dataframe tbody tr th:only-of-type {\n",
       "        vertical-align: middle;\n",
       "    }\n",
       "\n",
       "    .dataframe tbody tr th {\n",
       "        vertical-align: top;\n",
       "    }\n",
       "\n",
       "    .dataframe thead th {\n",
       "        text-align: right;\n",
       "    }\n",
       "</style>\n",
       "<table border=\"1\" class=\"dataframe\">\n",
       "  <thead>\n",
       "    <tr style=\"text-align: right;\">\n",
       "      <th></th>\n",
       "      <th>battery</th>\n",
       "      <th>price</th>\n",
       "      <th>cluster</th>\n",
       "    </tr>\n",
       "  </thead>\n",
       "  <tbody>\n",
       "    <tr>\n",
       "      <th>0</th>\n",
       "      <td>5500</td>\n",
       "      <td>2000</td>\n",
       "      <td>2</td>\n",
       "    </tr>\n",
       "    <tr>\n",
       "      <th>1</th>\n",
       "      <td>7000</td>\n",
       "      <td>5000</td>\n",
       "      <td>0</td>\n",
       "    </tr>\n",
       "    <tr>\n",
       "      <th>2</th>\n",
       "      <td>1200</td>\n",
       "      <td>400</td>\n",
       "      <td>1</td>\n",
       "    </tr>\n",
       "  </tbody>\n",
       "</table>\n",
       "</div>"
      ],
      "text/plain": [
       "   battery  price  cluster\n",
       "0     5500   2000        2\n",
       "1     7000   5000        0\n",
       "2     1200    400        1"
      ]
     },
     "execution_count": 8,
     "metadata": {},
     "output_type": "execute_result"
    }
   ],
   "source": [
    "new=pd.DataFrame([\n",
    "    {\"battery\": 5500, \"price\": 2000},\n",
    "    {\"battery\": 7000, \"price\": 5000},\n",
    "    {\"battery\": 1200, \"price\": 400}\n",
    "])\n",
    "new['cluster']=kmeans.fit_predict(new)\n",
    "new"
   ]
  },
  {
   "cell_type": "code",
   "execution_count": 9,
   "id": "3e91208e",
   "metadata": {},
   "outputs": [
    {
     "data": {
      "application/vnd.microsoft.datawrangler.viewer.v0+json": {
       "columns": [
        {
         "name": "index",
         "rawType": "int64",
         "type": "integer"
        },
        {
         "name": "battery",
         "rawType": "int64",
         "type": "integer"
        },
        {
         "name": "price",
         "rawType": "int64",
         "type": "integer"
        },
        {
         "name": "cluster",
         "rawType": "int32",
         "type": "integer"
        },
        {
         "name": "quality",
         "rawType": "object",
         "type": "unknown"
        }
       ],
       "ref": "b2552c04-1e9d-4dcd-9632-0a9948094e37",
       "rows": [
        [
         "0",
         "5000",
         "150",
         "1",
         "good"
        ],
        [
         "1",
         "4500",
         "200",
         "2",
         "better"
        ],
        [
         "2",
         "3000",
         "800",
         "0",
         "normal"
        ],
        [
         "3",
         "3200",
         "950",
         "0",
         "normal"
        ],
        [
         "4",
         "4000",
         "400",
         "2",
         "better"
        ],
        [
         "5",
         "6000",
         "180",
         "1",
         "good"
        ],
        [
         "6",
         "3300",
         "750",
         "0",
         "normal"
        ],
        [
         "7",
         "4800",
         "250",
         "1",
         "good"
        ],
        [
         "8",
         "2800",
         "1000",
         "0",
         "normal"
        ],
        [
         "0",
         "5500",
         "2000",
         "2",
         null
        ],
        [
         "1",
         "7000",
         "5000",
         "0",
         null
        ],
        [
         "2",
         "1200",
         "400",
         "1",
         null
        ]
       ],
       "shape": {
        "columns": 4,
        "rows": 12
       }
      },
      "text/html": [
       "<div>\n",
       "<style scoped>\n",
       "    .dataframe tbody tr th:only-of-type {\n",
       "        vertical-align: middle;\n",
       "    }\n",
       "\n",
       "    .dataframe tbody tr th {\n",
       "        vertical-align: top;\n",
       "    }\n",
       "\n",
       "    .dataframe thead th {\n",
       "        text-align: right;\n",
       "    }\n",
       "</style>\n",
       "<table border=\"1\" class=\"dataframe\">\n",
       "  <thead>\n",
       "    <tr style=\"text-align: right;\">\n",
       "      <th></th>\n",
       "      <th>battery</th>\n",
       "      <th>price</th>\n",
       "      <th>cluster</th>\n",
       "      <th>quality</th>\n",
       "    </tr>\n",
       "  </thead>\n",
       "  <tbody>\n",
       "    <tr>\n",
       "      <th>0</th>\n",
       "      <td>5000</td>\n",
       "      <td>150</td>\n",
       "      <td>1</td>\n",
       "      <td>good</td>\n",
       "    </tr>\n",
       "    <tr>\n",
       "      <th>1</th>\n",
       "      <td>4500</td>\n",
       "      <td>200</td>\n",
       "      <td>2</td>\n",
       "      <td>better</td>\n",
       "    </tr>\n",
       "    <tr>\n",
       "      <th>2</th>\n",
       "      <td>3000</td>\n",
       "      <td>800</td>\n",
       "      <td>0</td>\n",
       "      <td>normal</td>\n",
       "    </tr>\n",
       "    <tr>\n",
       "      <th>3</th>\n",
       "      <td>3200</td>\n",
       "      <td>950</td>\n",
       "      <td>0</td>\n",
       "      <td>normal</td>\n",
       "    </tr>\n",
       "    <tr>\n",
       "      <th>4</th>\n",
       "      <td>4000</td>\n",
       "      <td>400</td>\n",
       "      <td>2</td>\n",
       "      <td>better</td>\n",
       "    </tr>\n",
       "    <tr>\n",
       "      <th>5</th>\n",
       "      <td>6000</td>\n",
       "      <td>180</td>\n",
       "      <td>1</td>\n",
       "      <td>good</td>\n",
       "    </tr>\n",
       "    <tr>\n",
       "      <th>6</th>\n",
       "      <td>3300</td>\n",
       "      <td>750</td>\n",
       "      <td>0</td>\n",
       "      <td>normal</td>\n",
       "    </tr>\n",
       "    <tr>\n",
       "      <th>7</th>\n",
       "      <td>4800</td>\n",
       "      <td>250</td>\n",
       "      <td>1</td>\n",
       "      <td>good</td>\n",
       "    </tr>\n",
       "    <tr>\n",
       "      <th>8</th>\n",
       "      <td>2800</td>\n",
       "      <td>1000</td>\n",
       "      <td>0</td>\n",
       "      <td>normal</td>\n",
       "    </tr>\n",
       "    <tr>\n",
       "      <th>0</th>\n",
       "      <td>5500</td>\n",
       "      <td>2000</td>\n",
       "      <td>2</td>\n",
       "      <td>NaN</td>\n",
       "    </tr>\n",
       "    <tr>\n",
       "      <th>1</th>\n",
       "      <td>7000</td>\n",
       "      <td>5000</td>\n",
       "      <td>0</td>\n",
       "      <td>NaN</td>\n",
       "    </tr>\n",
       "    <tr>\n",
       "      <th>2</th>\n",
       "      <td>1200</td>\n",
       "      <td>400</td>\n",
       "      <td>1</td>\n",
       "      <td>NaN</td>\n",
       "    </tr>\n",
       "  </tbody>\n",
       "</table>\n",
       "</div>"
      ],
      "text/plain": [
       "   battery  price  cluster quality\n",
       "0     5000    150        1    good\n",
       "1     4500    200        2  better\n",
       "2     3000    800        0  normal\n",
       "3     3200    950        0  normal\n",
       "4     4000    400        2  better\n",
       "5     6000    180        1    good\n",
       "6     3300    750        0  normal\n",
       "7     4800    250        1    good\n",
       "8     2800   1000        0  normal\n",
       "0     5500   2000        2     NaN\n",
       "1     7000   5000        0     NaN\n",
       "2     1200    400        1     NaN"
      ]
     },
     "execution_count": 9,
     "metadata": {},
     "output_type": "execute_result"
    }
   ],
   "source": [
    "df=pd.concat([df,new])\n",
    "df"
   ]
  },
  {
   "cell_type": "code",
   "execution_count": 10,
   "id": "8bf95467",
   "metadata": {},
   "outputs": [
    {
     "data": {
      "application/vnd.microsoft.datawrangler.viewer.v0+json": {
       "columns": [
        {
         "name": "index",
         "rawType": "int64",
         "type": "integer"
        },
        {
         "name": "battery",
         "rawType": "int64",
         "type": "integer"
        },
        {
         "name": "price",
         "rawType": "int64",
         "type": "integer"
        },
        {
         "name": "cluster",
         "rawType": "int32",
         "type": "integer"
        },
        {
         "name": "quality",
         "rawType": "object",
         "type": "unknown"
        }
       ],
       "ref": "8e55781b-9809-4d0f-8881-c9a160d7575a",
       "rows": [
        [
         "0",
         "5000",
         "150",
         "1",
         "good"
        ],
        [
         "1",
         "4500",
         "200",
         "2",
         "better"
        ],
        [
         "2",
         "3000",
         "800",
         "0",
         "normal"
        ],
        [
         "3",
         "3200",
         "950",
         "0",
         "normal"
        ],
        [
         "4",
         "4000",
         "400",
         "2",
         "better"
        ],
        [
         "5",
         "6000",
         "180",
         "1",
         "good"
        ],
        [
         "6",
         "3300",
         "750",
         "0",
         "normal"
        ],
        [
         "7",
         "4800",
         "250",
         "1",
         "good"
        ],
        [
         "8",
         "2800",
         "1000",
         "0",
         "normal"
        ],
        [
         "9",
         "5500",
         "2000",
         "2",
         null
        ],
        [
         "10",
         "7000",
         "5000",
         "0",
         null
        ],
        [
         "11",
         "1200",
         "400",
         "1",
         null
        ]
       ],
       "shape": {
        "columns": 4,
        "rows": 12
       }
      },
      "text/html": [
       "<div>\n",
       "<style scoped>\n",
       "    .dataframe tbody tr th:only-of-type {\n",
       "        vertical-align: middle;\n",
       "    }\n",
       "\n",
       "    .dataframe tbody tr th {\n",
       "        vertical-align: top;\n",
       "    }\n",
       "\n",
       "    .dataframe thead th {\n",
       "        text-align: right;\n",
       "    }\n",
       "</style>\n",
       "<table border=\"1\" class=\"dataframe\">\n",
       "  <thead>\n",
       "    <tr style=\"text-align: right;\">\n",
       "      <th></th>\n",
       "      <th>battery</th>\n",
       "      <th>price</th>\n",
       "      <th>cluster</th>\n",
       "      <th>quality</th>\n",
       "    </tr>\n",
       "  </thead>\n",
       "  <tbody>\n",
       "    <tr>\n",
       "      <th>0</th>\n",
       "      <td>5000</td>\n",
       "      <td>150</td>\n",
       "      <td>1</td>\n",
       "      <td>good</td>\n",
       "    </tr>\n",
       "    <tr>\n",
       "      <th>1</th>\n",
       "      <td>4500</td>\n",
       "      <td>200</td>\n",
       "      <td>2</td>\n",
       "      <td>better</td>\n",
       "    </tr>\n",
       "    <tr>\n",
       "      <th>2</th>\n",
       "      <td>3000</td>\n",
       "      <td>800</td>\n",
       "      <td>0</td>\n",
       "      <td>normal</td>\n",
       "    </tr>\n",
       "    <tr>\n",
       "      <th>3</th>\n",
       "      <td>3200</td>\n",
       "      <td>950</td>\n",
       "      <td>0</td>\n",
       "      <td>normal</td>\n",
       "    </tr>\n",
       "    <tr>\n",
       "      <th>4</th>\n",
       "      <td>4000</td>\n",
       "      <td>400</td>\n",
       "      <td>2</td>\n",
       "      <td>better</td>\n",
       "    </tr>\n",
       "    <tr>\n",
       "      <th>5</th>\n",
       "      <td>6000</td>\n",
       "      <td>180</td>\n",
       "      <td>1</td>\n",
       "      <td>good</td>\n",
       "    </tr>\n",
       "    <tr>\n",
       "      <th>6</th>\n",
       "      <td>3300</td>\n",
       "      <td>750</td>\n",
       "      <td>0</td>\n",
       "      <td>normal</td>\n",
       "    </tr>\n",
       "    <tr>\n",
       "      <th>7</th>\n",
       "      <td>4800</td>\n",
       "      <td>250</td>\n",
       "      <td>1</td>\n",
       "      <td>good</td>\n",
       "    </tr>\n",
       "    <tr>\n",
       "      <th>8</th>\n",
       "      <td>2800</td>\n",
       "      <td>1000</td>\n",
       "      <td>0</td>\n",
       "      <td>normal</td>\n",
       "    </tr>\n",
       "    <tr>\n",
       "      <th>9</th>\n",
       "      <td>5500</td>\n",
       "      <td>2000</td>\n",
       "      <td>2</td>\n",
       "      <td>NaN</td>\n",
       "    </tr>\n",
       "    <tr>\n",
       "      <th>10</th>\n",
       "      <td>7000</td>\n",
       "      <td>5000</td>\n",
       "      <td>0</td>\n",
       "      <td>NaN</td>\n",
       "    </tr>\n",
       "    <tr>\n",
       "      <th>11</th>\n",
       "      <td>1200</td>\n",
       "      <td>400</td>\n",
       "      <td>1</td>\n",
       "      <td>NaN</td>\n",
       "    </tr>\n",
       "  </tbody>\n",
       "</table>\n",
       "</div>"
      ],
      "text/plain": [
       "    battery  price  cluster quality\n",
       "0      5000    150        1    good\n",
       "1      4500    200        2  better\n",
       "2      3000    800        0  normal\n",
       "3      3200    950        0  normal\n",
       "4      4000    400        2  better\n",
       "5      6000    180        1    good\n",
       "6      3300    750        0  normal\n",
       "7      4800    250        1    good\n",
       "8      2800   1000        0  normal\n",
       "9      5500   2000        2     NaN\n",
       "10     7000   5000        0     NaN\n",
       "11     1200    400        1     NaN"
      ]
     },
     "execution_count": 10,
     "metadata": {},
     "output_type": "execute_result"
    }
   ],
   "source": [
    "df.reset_index(drop=True,inplace=True)\n",
    "df"
   ]
  },
  {
   "cell_type": "code",
   "execution_count": null,
   "id": "b58ab0cb",
   "metadata": {},
   "outputs": [],
   "source": []
  }
 ],
 "metadata": {
  "kernelspec": {
   "display_name": "Python 3",
   "language": "python",
   "name": "python3"
  },
  "language_info": {
   "codemirror_mode": {
    "name": "ipython",
    "version": 3
   },
   "file_extension": ".py",
   "mimetype": "text/x-python",
   "name": "python",
   "nbconvert_exporter": "python",
   "pygments_lexer": "ipython3",
   "version": "3.13.2"
  }
 },
 "nbformat": 4,
 "nbformat_minor": 5
}
